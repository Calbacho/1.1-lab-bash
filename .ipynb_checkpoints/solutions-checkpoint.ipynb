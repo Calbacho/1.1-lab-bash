{
 "cells": [
  {
   "cell_type": "markdown",
   "id": "cebe1170",
   "metadata": {},
   "source": [
    "1. Imprime en consola Hello World."
   ]
  },
  {
   "cell_type": "code",
   "execution_count": 1,
   "id": "808399fc",
   "metadata": {},
   "outputs": [
    {
     "name": "stdout",
     "output_type": "stream",
     "text": [
      "Hello World\n"
     ]
    }
   ],
   "source": [
    "echo Hello World"
   ]
  },
  {
   "cell_type": "markdown",
   "id": "cca5a140",
   "metadata": {},
   "source": [
    "2. Crea un directorio nuevo llamado new_dir."
   ]
  },
  {
   "cell_type": "code",
   "execution_count": 2,
   "id": "3b0c36b5",
   "metadata": {},
   "outputs": [],
   "source": [
    "mkdir new_dir"
   ]
  },
  {
   "cell_type": "markdown",
   "id": "0ff584f0",
   "metadata": {},
   "source": [
    "3. Elimina este directorio"
   ]
  },
  {
   "cell_type": "code",
   "execution_count": null,
   "id": "7784787b",
   "metadata": {},
   "outputs": [],
   "source": [
    "rm -r new_dir"
   ]
  },
  {
   "cell_type": "markdown",
   "id": "8f88b129",
   "metadata": {},
   "source": [
    "4. Copia el archivo sed.txt dentro de la carpeta lorem a la carpeta lorem-copy. TIP: Puede ser necesario crear la carpeta lorem-copy primero."
   ]
  },
  {
   "cell_type": "code",
   "execution_count": null,
   "id": "b96f89f0",
   "metadata": {},
   "outputs": [],
   "source": [
    "mkdir lorem-copy"
   ]
  },
  {
   "cell_type": "code",
   "execution_count": null,
   "id": "442cac4f",
   "metadata": {},
   "outputs": [],
   "source": [
    "cd .."
   ]
  },
  {
   "cell_type": "code",
   "execution_count": null,
   "id": "f8b05b11",
   "metadata": {},
   "outputs": [],
   "source": [
    "cd lorem"
   ]
  },
  {
   "cell_type": "code",
   "execution_count": null,
   "id": "e117276b",
   "metadata": {},
   "outputs": [],
   "source": [
    "cp sed.txt ~/OneDrive/Desktop/IRONHACK/1.1-lab-bash/lorem-copy"
   ]
  },
  {
   "cell_type": "markdown",
   "id": "5b9adbee",
   "metadata": {},
   "source": [
    "5. Copia los otros dos archivos de la carpeta lorem a la carpeta lorem-copy en una sola línea."
   ]
  },
  {
   "cell_type": "code",
   "execution_count": null,
   "id": "c7a4d900",
   "metadata": {},
   "outputs": [],
   "source": [
    "cp at.txt lorem.txt ~/OneDrive/Desktop/IRONHACK/1.1-lab-bash/lorem-copy"
   ]
  },
  {
   "cell_type": "markdown",
   "id": "c8a33f1f",
   "metadata": {},
   "source": [
    "6. Muestra el contenido del archivo sed.txt dentro de la carpeta lorem."
   ]
  },
  {
   "cell_type": "code",
   "execution_count": null,
   "id": "aacc2a48",
   "metadata": {},
   "outputs": [],
   "source": [
    "cat sed.txt"
   ]
  },
  {
   "cell_type": "markdown",
   "id": "fe25aeef",
   "metadata": {},
   "source": [
    "7. Muestra el contenido de los archivos at.txt y lorem.txt dentro de la carpeta lorem."
   ]
  },
  {
   "cell_type": "code",
   "execution_count": null,
   "id": "a5f47aa9",
   "metadata": {},
   "outputs": [],
   "source": [
    "cat at.txt lorem.txt"
   ]
  },
  {
   "cell_type": "markdown",
   "id": "9dbd2404",
   "metadata": {},
   "source": [
    "8. Visualiza las primeras 3 líneas del archivo sed.txt dentro de la carpeta lorem-copy"
   ]
  },
  {
   "cell_type": "code",
   "execution_count": null,
   "id": "df888015",
   "metadata": {},
   "outputs": [],
   "source": [
    "head -n 3 sed.txt"
   ]
  },
  {
   "cell_type": "markdown",
   "id": "87dcfbf3",
   "metadata": {},
   "source": [
    "9. Visualiza las ultimas 3 líneas del archivo sed.txt dentro de la carpeta lorem-copy"
   ]
  },
  {
   "cell_type": "code",
   "execution_count": null,
   "id": "0cd36fef",
   "metadata": {},
   "outputs": [],
   "source": [
    "tail -n 3 sed.txt"
   ]
  },
  {
   "cell_type": "markdown",
   "id": "940632b9",
   "metadata": {},
   "source": [
    "10. Añade Homo homini lupus. al final de archivo sed.txt dentro de la carpeta lorem-copy."
   ]
  },
  {
   "cell_type": "code",
   "execution_count": null,
   "id": "ad92bc11",
   "metadata": {},
   "outputs": [],
   "source": [
    "echo Homo homini lupus >> sed.txt"
   ]
  },
  {
   "cell_type": "markdown",
   "id": "cbb1247d",
   "metadata": {},
   "source": [
    "11. Visualiza las últimas 3 líneas del archivo sed.txt dentro de la carpeta lorem-copy. Deberías ver ahora Homo homini lupus.."
   ]
  },
  {
   "cell_type": "code",
   "execution_count": null,
   "id": "01b4f359",
   "metadata": {},
   "outputs": [],
   "source": [
    "tail -n 3 sed.txt"
   ]
  },
  {
   "cell_type": "markdown",
   "id": "30fb6a79",
   "metadata": {},
   "source": [
    "12. Sustituye todas las apariciones de et por ET del archivo at.txt dentro de la carpeta lorem-copy. Deberás usar sed."
   ]
  },
  {
   "cell_type": "code",
   "execution_count": null,
   "id": "deeb4ce6",
   "metadata": {},
   "outputs": [],
   "source": [
    "sed 's/et/ET/g' at.txt"
   ]
  },
  {
   "cell_type": "markdown",
   "id": "ffc99f52",
   "metadata": {},
   "source": [
    "13. Encuentra al usuario activo en el sistema."
   ]
  },
  {
   "cell_type": "code",
   "execution_count": null,
   "id": "15484f92",
   "metadata": {},
   "outputs": [],
   "source": [
    "whoami"
   ]
  },
  {
   "cell_type": "markdown",
   "id": "2b6f4394",
   "metadata": {},
   "source": [
    "14. Encuentra dónde estás en tu sistema de ficheros."
   ]
  },
  {
   "cell_type": "code",
   "execution_count": null,
   "id": "ca42b049",
   "metadata": {},
   "outputs": [],
   "source": [
    "pwd"
   ]
  },
  {
   "cell_type": "markdown",
   "id": "3a8f09b5",
   "metadata": {},
   "source": [
    "15. Lista los archivos que terminan por .txt en la carpeta lorem."
   ]
  },
  {
   "cell_type": "code",
   "execution_count": null,
   "id": "7802a99e",
   "metadata": {},
   "outputs": [],
   "source": [
    "ls *.txt"
   ]
  },
  {
   "cell_type": "markdown",
   "id": "d7d496e3",
   "metadata": {},
   "source": [
    "16. Cuenta el número de líneas que tiene el archivo sed.txt dentro de la carpeta lorem."
   ]
  },
  {
   "cell_type": "code",
   "execution_count": null,
   "id": "b1254580",
   "metadata": {},
   "outputs": [],
   "source": [
    "wc sed.txt"
   ]
  },
  {
   "cell_type": "markdown",
   "id": "7abcf793",
   "metadata": {},
   "source": [
    "17. Cuenta el número de archivos que empiezan por lorem que están en este directorio y en directorios internos."
   ]
  },
  {
   "cell_type": "code",
   "execution_count": null,
   "id": "e412ad08",
   "metadata": {},
   "outputs": [],
   "source": [
    "find . -name \"lorem*\" | wc -l"
   ]
  },
  {
   "cell_type": "markdown",
   "id": "8b0fc136",
   "metadata": {},
   "source": [
    "18. Encuentra todas las apariciones de et en at.txt dentro de la carpeta lorem."
   ]
  },
  {
   "cell_type": "code",
   "execution_count": null,
   "id": "b06b4645",
   "metadata": {},
   "outputs": [],
   "source": [
    "cd lorem"
   ]
  },
  {
   "cell_type": "code",
   "execution_count": null,
   "id": "17cabfa7",
   "metadata": {},
   "outputs": [],
   "source": [
    "grep et at.txt"
   ]
  },
  {
   "cell_type": "markdown",
   "id": "e04044ed",
   "metadata": {},
   "source": [
    "19. Cuenta el número de apariciones del string et en at.txt dentro de la carpeta lorem.\n",
    "\n"
   ]
  },
  {
   "cell_type": "code",
   "execution_count": null,
   "id": "79ec556e",
   "metadata": {},
   "outputs": [],
   "source": [
    "grep -c et at.txt"
   ]
  },
  {
   "cell_type": "markdown",
   "id": "cb6d4873",
   "metadata": {},
   "source": [
    "20. Cuenta el número de apariciones del string et en todos los archivos del directorio lorem-copy."
   ]
  },
  {
   "cell_type": "code",
   "execution_count": null,
   "id": "7c784f6f",
   "metadata": {},
   "outputs": [],
   "source": [
    "grep -r et lorem-copy | wc -l"
   ]
  }
 ],
 "metadata": {
  "kernelspec": {
   "display_name": "Python 3 (ipykernel)",
   "language": "python",
   "name": "python3"
  },
  "language_info": {
   "codemirror_mode": {
    "name": "ipython",
    "version": 3
   },
   "file_extension": ".py",
   "mimetype": "text/x-python",
   "name": "python",
   "nbconvert_exporter": "python",
   "pygments_lexer": "ipython3",
   "version": "3.9.13"
  }
 },
 "nbformat": 4,
 "nbformat_minor": 5
}
